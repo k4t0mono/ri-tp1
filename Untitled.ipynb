{
 "cells": [
  {
   "cell_type": "code",
   "execution_count": 21,
   "metadata": {},
   "outputs": [],
   "source": [
    "import pandas as pd\n",
    "import json"
   ]
  },
  {
   "cell_type": "code",
   "execution_count": 33,
   "metadata": {},
   "outputs": [],
   "source": [
    "df = pd.read_csv(\"sr_vector\", sep=\"\\t\", header=None, names=[\"query\",\"Q0\",\"doc\",\"rank\", \"score\", \"test\"])"
   ]
  },
  {
   "cell_type": "code",
   "execution_count": 24,
   "metadata": {},
   "outputs": [],
   "source": [
    "with open('cfquery.json') as fp:\n",
    "    queries = json.load(fp)"
   ]
  },
  {
   "cell_type": "code",
   "execution_count": 38,
   "metadata": {},
   "outputs": [],
   "source": [
    "rd = [ int(x) for x in queries['queries'][0]['documents'] ]\n",
    "ix = queries['queries'][0]['id']"
   ]
  },
  {
   "cell_type": "code",
   "execution_count": 39,
   "metadata": {},
   "outputs": [
    {
     "data": {
      "text/html": [
       "<div>\n",
       "<style scoped>\n",
       "    .dataframe tbody tr th:only-of-type {\n",
       "        vertical-align: middle;\n",
       "    }\n",
       "\n",
       "    .dataframe tbody tr th {\n",
       "        vertical-align: top;\n",
       "    }\n",
       "\n",
       "    .dataframe thead th {\n",
       "        text-align: right;\n",
       "    }\n",
       "</style>\n",
       "<table border=\"1\" class=\"dataframe\">\n",
       "  <thead>\n",
       "    <tr style=\"text-align: right;\">\n",
       "      <th></th>\n",
       "      <th>query</th>\n",
       "      <th>Q0</th>\n",
       "      <th>doc</th>\n",
       "      <th>rank</th>\n",
       "      <th>score</th>\n",
       "      <th>test</th>\n",
       "    </tr>\n",
       "  </thead>\n",
       "  <tbody>\n",
       "    <tr>\n",
       "      <th>74219</th>\n",
       "      <td>88</td>\n",
       "      <td>Q0</td>\n",
       "      <td>1171</td>\n",
       "      <td>0</td>\n",
       "      <td>61.1827</td>\n",
       "      <td>test</td>\n",
       "    </tr>\n",
       "    <tr>\n",
       "      <th>74220</th>\n",
       "      <td>88</td>\n",
       "      <td>Q0</td>\n",
       "      <td>62</td>\n",
       "      <td>1</td>\n",
       "      <td>57.5339</td>\n",
       "      <td>test</td>\n",
       "    </tr>\n",
       "    <tr>\n",
       "      <th>74221</th>\n",
       "      <td>88</td>\n",
       "      <td>Q0</td>\n",
       "      <td>614</td>\n",
       "      <td>2</td>\n",
       "      <td>52.7154</td>\n",
       "      <td>test</td>\n",
       "    </tr>\n",
       "    <tr>\n",
       "      <th>74222</th>\n",
       "      <td>88</td>\n",
       "      <td>Q0</td>\n",
       "      <td>989</td>\n",
       "      <td>3</td>\n",
       "      <td>52.3820</td>\n",
       "      <td>test</td>\n",
       "    </tr>\n",
       "    <tr>\n",
       "      <th>74223</th>\n",
       "      <td>88</td>\n",
       "      <td>Q0</td>\n",
       "      <td>790</td>\n",
       "      <td>4</td>\n",
       "      <td>48.6372</td>\n",
       "      <td>test</td>\n",
       "    </tr>\n",
       "  </tbody>\n",
       "</table>\n",
       "</div>"
      ],
      "text/plain": [
       "       query    Q0   doc  rank    score   test\n",
       "74219     88   Q0   1171     0  61.1827   test\n",
       "74220     88   Q0     62     1  57.5339   test\n",
       "74221     88   Q0    614     2  52.7154   test\n",
       "74222     88   Q0    989     3  52.3820   test\n",
       "74223     88   Q0    790     4  48.6372   test"
      ]
     },
     "execution_count": 39,
     "metadata": {},
     "output_type": "execute_result"
    }
   ],
   "source": [
    "results = df.query(f\"query == '{ix}'\")\n",
    "results.head()"
   ]
  },
  {
   "cell_type": "code",
   "execution_count": 44,
   "metadata": {},
   "outputs": [],
   "source": [
    "y_preal = [ x in rd for x in results.doc ]"
   ]
  },
  {
   "cell_type": "code",
   "execution_count": 41,
   "metadata": {},
   "outputs": [
    {
     "data": {
      "text/plain": [
       "[1091, 1134, 1144, 370, 443, 457, 590, 614, 668, 678, 679, 702, 945, 990]"
      ]
     },
     "execution_count": 41,
     "metadata": {},
     "output_type": "execute_result"
    }
   ],
   "source": [
    "rd"
   ]
  },
  {
   "cell_type": "code",
   "execution_count": null,
   "metadata": {},
   "outputs": [],
   "source": []
  }
 ],
 "metadata": {
  "kernelspec": {
   "display_name": "Python 3",
   "language": "python",
   "name": "python3"
  },
  "language_info": {
   "codemirror_mode": {
    "name": "ipython",
    "version": 3
   },
   "file_extension": ".py",
   "mimetype": "text/x-python",
   "name": "python",
   "nbconvert_exporter": "python",
   "pygments_lexer": "ipython3",
   "version": "3.7.9"
  }
 },
 "nbformat": 4,
 "nbformat_minor": 4
}
